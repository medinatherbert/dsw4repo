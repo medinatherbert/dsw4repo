{
 "cells": [
  {
   "cell_type": "markdown",
   "metadata": {},
   "source": [
    "<center>\n",
    "    <img src=\"https://s3-api.us-geo.objectstorage.softlayer.net/cf-courses-data/CognitiveClass/Logos/organization_logo/organization_logo.png\" width=\"300\" alt=\"cognitiveclass.ai logo\"  />\n",
    "</center>\n"
   ]
  },
  {
   "cell_type": "markdown",
   "metadata": {},
   "source": [
    "#### Add your code below following the instructions given in the course\n"
   ]
  },
  {
   "cell_type": "markdown",
   "metadata": {},
   "source": [
    "<a id=\"title\"></a>\n",
    "# My Jupyter Noteboox on IBM Watson Studio"
   ]
  },
  {
   "cell_type": "markdown",
   "metadata": {},
   "source": [
    "**Herbert Medina**"
   ]
  },
  {
   "cell_type": "markdown",
   "metadata": {},
   "source": [
    "<a id=\"interest\"></a>\n",
    "*I am interested in data science because of its application on solving real world problems.*"
   ]
  },
  {
   "cell_type": "markdown",
   "metadata": {},
   "source": [
    "<a id=\"comments\"></a>\n",
    "### The following script consist of printing the list of values (NxN items). When the number to print is multiple of 5 the value will be replaced by \"Fiz\". When the number to print is multiple of 7 the value will be replaced by \"Buz\". In any other case the number remains. For example in case n=3  1 2 3 4 Fiz 6 Buz 8 9"
   ]
  },
  {
   "cell_type": "code",
   "execution_count": 1,
   "metadata": {},
   "outputs": [
    {
     "name": "stdout",
     "output_type": "stream",
     "text": [
      "(10, ['1', '2', '3', '4', 'Fiz', '6', 'Buz', '8', '9', 'Fiz', '11', '12', '13', 'Buz', 'Fiz', '16', 'Buz', '18', '19', 'Fiz', 'Buz', '22', '23', '24', 'Fiz', '26', 'Buz', 'Buz', '29', 'Fiz', '31', '32', '33', '34', 'FizBuz', '36', 'Buz', '38', '39', 'Fiz', '41', 'Buz', '43', '44', 'Fiz', '46', 'Buz', '48', 'Buz', 'Fiz', 'Fiz', 'Fiz', 'Fiz', 'Fiz', 'Fiz', 'FizBuz', 'FizBuz', 'Fiz', 'Fiz', 'Fiz', '61', '62', 'Buz', '64', 'Fiz', '66', 'Buz', '68', '69', 'FizBuz', 'Buz', 'Buz', 'Buz', 'Buz', 'FizBuz', 'Buz', 'Buz', 'Buz', 'Buz', 'Fiz', '81', '82', '83', 'Buz', 'Fiz', '86', 'Buz', '88', '89', 'Fiz', 'Buz', '92', '93', '94', 'Fiz', '96', 'Buz', 'Buz', '99', 'Fiz'])\n"
     ]
    }
   ],
   "source": [
    "def FizBus(n):\n",
    "    return n, [\"Fiz\"*(x%5==0 or str(x).find('5')>=0)+\"Buz\"*(x%7==0 or str(x).find('7')>=0) or str(x) for x in range (1, n*n+1)]\n",
    "\n",
    "print(FizBus(10))"
   ]
  },
  {
   "cell_type": "markdown",
   "metadata": {},
   "source": [
    " > This is the implementation of an horizontal rule\n",
    " \n",
    " ***\n",
    " \n",
    "- Recommendations to improve the implementation:\n",
    "     - Function to validate input parameter\n",
    "     - Function FizBuz as described in the previous section\n",
    "     - Function to print the result in a structured layout\n",
    " ***\n",
    "1. Recommended Environment: \n",
    "    1. Python 3\n",
    "    2. Environment 2vcpu - 4 RAM\n",
    "    3. Either Watson or local environment\n",
    " ***\n",
    " ### Links  (Go to) :\n",
    "*** Warning - Using the public link the table is not showing the defined layout. \n",
    "\n",
    "| Title | Interest | Comments | External |\n",
    "| --- | --- | --- | --- |\n",
    "| [Title](#title) | [Interest](#interest) | [Comments](#comments) | __[IBM Watson](https://www.ibm.com/uk-en/watson)__ |\n",
    " \n",
    "\n",
    "\n",
    "\n"
   ]
  },
  {
   "cell_type": "code",
   "execution_count": null,
   "metadata": {},
   "outputs": [],
   "source": []
  }
 ],
 "metadata": {
  "kernelspec": {
   "display_name": "Python 3.9",
   "language": "python",
   "name": "python3"
  },
  "language_info": {
   "codemirror_mode": {
    "name": "ipython",
    "version": 3
   },
   "file_extension": ".py",
   "mimetype": "text/x-python",
   "name": "python",
   "nbconvert_exporter": "python",
   "pygments_lexer": "ipython3",
   "version": "3.9.12"
  }
 },
 "nbformat": 4,
 "nbformat_minor": 4
}
